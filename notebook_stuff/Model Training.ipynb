{
 "cells": [
  {
   "cell_type": "code",
   "execution_count": 2,
   "id": "1428d4df-204c-428d-9260-6da6fd124409",
   "metadata": {},
   "outputs": [],
   "source": [
    "import pandas as pd #imported pandas"
   ]
  },
  {
   "cell_type": "code",
   "execution_count": 3,
   "id": "fb573635-882e-45a2-ae15-2421c8beaa81",
   "metadata": {},
   "outputs": [
    {
     "ename": "FileNotFoundError",
     "evalue": "[Errno 2] No such file or directory: 'spotify_millsongdata.csv'",
     "output_type": "error",
     "traceback": [
      "\u001b[0;31m---------------------------------------------------------------------------\u001b[0m",
      "\u001b[0;31mFileNotFoundError\u001b[0m                         Traceback (most recent call last)",
      "Cell \u001b[0;32mIn[3], line 2\u001b[0m\n\u001b[1;32m      1\u001b[0m \u001b[38;5;66;03m#DF IS HERE\u001b[39;00m\n\u001b[0;32m----> 2\u001b[0m afrin \u001b[38;5;241m=\u001b[39m pd\u001b[38;5;241m.\u001b[39mread_csv(\u001b[38;5;124m\"\u001b[39m\u001b[38;5;124mspotify_millsongdata.csv\u001b[39m\u001b[38;5;124m\"\u001b[39m)\n",
      "File \u001b[0;32m/opt/anaconda3/lib/python3.11/site-packages/pandas/io/parsers/readers.py:948\u001b[0m, in \u001b[0;36mread_csv\u001b[0;34m(filepath_or_buffer, sep, delimiter, header, names, index_col, usecols, dtype, engine, converters, true_values, false_values, skipinitialspace, skiprows, skipfooter, nrows, na_values, keep_default_na, na_filter, verbose, skip_blank_lines, parse_dates, infer_datetime_format, keep_date_col, date_parser, date_format, dayfirst, cache_dates, iterator, chunksize, compression, thousands, decimal, lineterminator, quotechar, quoting, doublequote, escapechar, comment, encoding, encoding_errors, dialect, on_bad_lines, delim_whitespace, low_memory, memory_map, float_precision, storage_options, dtype_backend)\u001b[0m\n\u001b[1;32m    935\u001b[0m kwds_defaults \u001b[38;5;241m=\u001b[39m _refine_defaults_read(\n\u001b[1;32m    936\u001b[0m     dialect,\n\u001b[1;32m    937\u001b[0m     delimiter,\n\u001b[0;32m   (...)\u001b[0m\n\u001b[1;32m    944\u001b[0m     dtype_backend\u001b[38;5;241m=\u001b[39mdtype_backend,\n\u001b[1;32m    945\u001b[0m )\n\u001b[1;32m    946\u001b[0m kwds\u001b[38;5;241m.\u001b[39mupdate(kwds_defaults)\n\u001b[0;32m--> 948\u001b[0m \u001b[38;5;28;01mreturn\u001b[39;00m _read(filepath_or_buffer, kwds)\n",
      "File \u001b[0;32m/opt/anaconda3/lib/python3.11/site-packages/pandas/io/parsers/readers.py:611\u001b[0m, in \u001b[0;36m_read\u001b[0;34m(filepath_or_buffer, kwds)\u001b[0m\n\u001b[1;32m    608\u001b[0m _validate_names(kwds\u001b[38;5;241m.\u001b[39mget(\u001b[38;5;124m\"\u001b[39m\u001b[38;5;124mnames\u001b[39m\u001b[38;5;124m\"\u001b[39m, \u001b[38;5;28;01mNone\u001b[39;00m))\n\u001b[1;32m    610\u001b[0m \u001b[38;5;66;03m# Create the parser.\u001b[39;00m\n\u001b[0;32m--> 611\u001b[0m parser \u001b[38;5;241m=\u001b[39m TextFileReader(filepath_or_buffer, \u001b[38;5;241m*\u001b[39m\u001b[38;5;241m*\u001b[39mkwds)\n\u001b[1;32m    613\u001b[0m \u001b[38;5;28;01mif\u001b[39;00m chunksize \u001b[38;5;129;01mor\u001b[39;00m iterator:\n\u001b[1;32m    614\u001b[0m     \u001b[38;5;28;01mreturn\u001b[39;00m parser\n",
      "File \u001b[0;32m/opt/anaconda3/lib/python3.11/site-packages/pandas/io/parsers/readers.py:1448\u001b[0m, in \u001b[0;36mTextFileReader.__init__\u001b[0;34m(self, f, engine, **kwds)\u001b[0m\n\u001b[1;32m   1445\u001b[0m     \u001b[38;5;28mself\u001b[39m\u001b[38;5;241m.\u001b[39moptions[\u001b[38;5;124m\"\u001b[39m\u001b[38;5;124mhas_index_names\u001b[39m\u001b[38;5;124m\"\u001b[39m] \u001b[38;5;241m=\u001b[39m kwds[\u001b[38;5;124m\"\u001b[39m\u001b[38;5;124mhas_index_names\u001b[39m\u001b[38;5;124m\"\u001b[39m]\n\u001b[1;32m   1447\u001b[0m \u001b[38;5;28mself\u001b[39m\u001b[38;5;241m.\u001b[39mhandles: IOHandles \u001b[38;5;241m|\u001b[39m \u001b[38;5;28;01mNone\u001b[39;00m \u001b[38;5;241m=\u001b[39m \u001b[38;5;28;01mNone\u001b[39;00m\n\u001b[0;32m-> 1448\u001b[0m \u001b[38;5;28mself\u001b[39m\u001b[38;5;241m.\u001b[39m_engine \u001b[38;5;241m=\u001b[39m \u001b[38;5;28mself\u001b[39m\u001b[38;5;241m.\u001b[39m_make_engine(f, \u001b[38;5;28mself\u001b[39m\u001b[38;5;241m.\u001b[39mengine)\n",
      "File \u001b[0;32m/opt/anaconda3/lib/python3.11/site-packages/pandas/io/parsers/readers.py:1705\u001b[0m, in \u001b[0;36mTextFileReader._make_engine\u001b[0;34m(self, f, engine)\u001b[0m\n\u001b[1;32m   1703\u001b[0m     \u001b[38;5;28;01mif\u001b[39;00m \u001b[38;5;124m\"\u001b[39m\u001b[38;5;124mb\u001b[39m\u001b[38;5;124m\"\u001b[39m \u001b[38;5;129;01mnot\u001b[39;00m \u001b[38;5;129;01min\u001b[39;00m mode:\n\u001b[1;32m   1704\u001b[0m         mode \u001b[38;5;241m+\u001b[39m\u001b[38;5;241m=\u001b[39m \u001b[38;5;124m\"\u001b[39m\u001b[38;5;124mb\u001b[39m\u001b[38;5;124m\"\u001b[39m\n\u001b[0;32m-> 1705\u001b[0m \u001b[38;5;28mself\u001b[39m\u001b[38;5;241m.\u001b[39mhandles \u001b[38;5;241m=\u001b[39m get_handle(\n\u001b[1;32m   1706\u001b[0m     f,\n\u001b[1;32m   1707\u001b[0m     mode,\n\u001b[1;32m   1708\u001b[0m     encoding\u001b[38;5;241m=\u001b[39m\u001b[38;5;28mself\u001b[39m\u001b[38;5;241m.\u001b[39moptions\u001b[38;5;241m.\u001b[39mget(\u001b[38;5;124m\"\u001b[39m\u001b[38;5;124mencoding\u001b[39m\u001b[38;5;124m\"\u001b[39m, \u001b[38;5;28;01mNone\u001b[39;00m),\n\u001b[1;32m   1709\u001b[0m     compression\u001b[38;5;241m=\u001b[39m\u001b[38;5;28mself\u001b[39m\u001b[38;5;241m.\u001b[39moptions\u001b[38;5;241m.\u001b[39mget(\u001b[38;5;124m\"\u001b[39m\u001b[38;5;124mcompression\u001b[39m\u001b[38;5;124m\"\u001b[39m, \u001b[38;5;28;01mNone\u001b[39;00m),\n\u001b[1;32m   1710\u001b[0m     memory_map\u001b[38;5;241m=\u001b[39m\u001b[38;5;28mself\u001b[39m\u001b[38;5;241m.\u001b[39moptions\u001b[38;5;241m.\u001b[39mget(\u001b[38;5;124m\"\u001b[39m\u001b[38;5;124mmemory_map\u001b[39m\u001b[38;5;124m\"\u001b[39m, \u001b[38;5;28;01mFalse\u001b[39;00m),\n\u001b[1;32m   1711\u001b[0m     is_text\u001b[38;5;241m=\u001b[39mis_text,\n\u001b[1;32m   1712\u001b[0m     errors\u001b[38;5;241m=\u001b[39m\u001b[38;5;28mself\u001b[39m\u001b[38;5;241m.\u001b[39moptions\u001b[38;5;241m.\u001b[39mget(\u001b[38;5;124m\"\u001b[39m\u001b[38;5;124mencoding_errors\u001b[39m\u001b[38;5;124m\"\u001b[39m, \u001b[38;5;124m\"\u001b[39m\u001b[38;5;124mstrict\u001b[39m\u001b[38;5;124m\"\u001b[39m),\n\u001b[1;32m   1713\u001b[0m     storage_options\u001b[38;5;241m=\u001b[39m\u001b[38;5;28mself\u001b[39m\u001b[38;5;241m.\u001b[39moptions\u001b[38;5;241m.\u001b[39mget(\u001b[38;5;124m\"\u001b[39m\u001b[38;5;124mstorage_options\u001b[39m\u001b[38;5;124m\"\u001b[39m, \u001b[38;5;28;01mNone\u001b[39;00m),\n\u001b[1;32m   1714\u001b[0m )\n\u001b[1;32m   1715\u001b[0m \u001b[38;5;28;01massert\u001b[39;00m \u001b[38;5;28mself\u001b[39m\u001b[38;5;241m.\u001b[39mhandles \u001b[38;5;129;01mis\u001b[39;00m \u001b[38;5;129;01mnot\u001b[39;00m \u001b[38;5;28;01mNone\u001b[39;00m\n\u001b[1;32m   1716\u001b[0m f \u001b[38;5;241m=\u001b[39m \u001b[38;5;28mself\u001b[39m\u001b[38;5;241m.\u001b[39mhandles\u001b[38;5;241m.\u001b[39mhandle\n",
      "File \u001b[0;32m/opt/anaconda3/lib/python3.11/site-packages/pandas/io/common.py:863\u001b[0m, in \u001b[0;36mget_handle\u001b[0;34m(path_or_buf, mode, encoding, compression, memory_map, is_text, errors, storage_options)\u001b[0m\n\u001b[1;32m    858\u001b[0m \u001b[38;5;28;01melif\u001b[39;00m \u001b[38;5;28misinstance\u001b[39m(handle, \u001b[38;5;28mstr\u001b[39m):\n\u001b[1;32m    859\u001b[0m     \u001b[38;5;66;03m# Check whether the filename is to be opened in binary mode.\u001b[39;00m\n\u001b[1;32m    860\u001b[0m     \u001b[38;5;66;03m# Binary mode does not support 'encoding' and 'newline'.\u001b[39;00m\n\u001b[1;32m    861\u001b[0m     \u001b[38;5;28;01mif\u001b[39;00m ioargs\u001b[38;5;241m.\u001b[39mencoding \u001b[38;5;129;01mand\u001b[39;00m \u001b[38;5;124m\"\u001b[39m\u001b[38;5;124mb\u001b[39m\u001b[38;5;124m\"\u001b[39m \u001b[38;5;129;01mnot\u001b[39;00m \u001b[38;5;129;01min\u001b[39;00m ioargs\u001b[38;5;241m.\u001b[39mmode:\n\u001b[1;32m    862\u001b[0m         \u001b[38;5;66;03m# Encoding\u001b[39;00m\n\u001b[0;32m--> 863\u001b[0m         handle \u001b[38;5;241m=\u001b[39m \u001b[38;5;28mopen\u001b[39m(\n\u001b[1;32m    864\u001b[0m             handle,\n\u001b[1;32m    865\u001b[0m             ioargs\u001b[38;5;241m.\u001b[39mmode,\n\u001b[1;32m    866\u001b[0m             encoding\u001b[38;5;241m=\u001b[39mioargs\u001b[38;5;241m.\u001b[39mencoding,\n\u001b[1;32m    867\u001b[0m             errors\u001b[38;5;241m=\u001b[39merrors,\n\u001b[1;32m    868\u001b[0m             newline\u001b[38;5;241m=\u001b[39m\u001b[38;5;124m\"\u001b[39m\u001b[38;5;124m\"\u001b[39m,\n\u001b[1;32m    869\u001b[0m         )\n\u001b[1;32m    870\u001b[0m     \u001b[38;5;28;01melse\u001b[39;00m:\n\u001b[1;32m    871\u001b[0m         \u001b[38;5;66;03m# Binary mode\u001b[39;00m\n\u001b[1;32m    872\u001b[0m         handle \u001b[38;5;241m=\u001b[39m \u001b[38;5;28mopen\u001b[39m(handle, ioargs\u001b[38;5;241m.\u001b[39mmode)\n",
      "\u001b[0;31mFileNotFoundError\u001b[0m: [Errno 2] No such file or directory: 'spotify_millsongdata.csv'"
     ]
    }
   ],
   "source": [
    "#DF IS HERE\n",
    "afrin = pd.read_csv(\"spotify_millsongdata.csv\") #loaded the dataset with pandas and made it equal to df"
   ]
  },
  {
   "cell_type": "code",
   "execution_count": 151,
   "id": "d7f68039-3931-4b2e-b6cd-6f12cc408f36",
   "metadata": {},
   "outputs": [
    {
     "data": {
      "text/html": [
       "<div>\n",
       "<style scoped>\n",
       "    .dataframe tbody tr th:only-of-type {\n",
       "        vertical-align: middle;\n",
       "    }\n",
       "\n",
       "    .dataframe tbody tr th {\n",
       "        vertical-align: top;\n",
       "    }\n",
       "\n",
       "    .dataframe thead th {\n",
       "        text-align: right;\n",
       "    }\n",
       "</style>\n",
       "<table border=\"1\" class=\"dataframe\">\n",
       "  <thead>\n",
       "    <tr style=\"text-align: right;\">\n",
       "      <th></th>\n",
       "      <th>artist</th>\n",
       "      <th>song</th>\n",
       "      <th>link</th>\n",
       "      <th>text</th>\n",
       "    </tr>\n",
       "  </thead>\n",
       "  <tbody>\n",
       "    <tr>\n",
       "      <th>0</th>\n",
       "      <td>ABBA</td>\n",
       "      <td>Ahe's My Kind Of Girl</td>\n",
       "      <td>/a/abba/ahes+my+kind+of+girl_20598417.html</td>\n",
       "      <td>Look at her face, it's a wonderful face  \\r\\nA...</td>\n",
       "    </tr>\n",
       "    <tr>\n",
       "      <th>1</th>\n",
       "      <td>ABBA</td>\n",
       "      <td>Andante, Andante</td>\n",
       "      <td>/a/abba/andante+andante_20002708.html</td>\n",
       "      <td>Take it easy with me, please  \\r\\nTouch me gen...</td>\n",
       "    </tr>\n",
       "    <tr>\n",
       "      <th>2</th>\n",
       "      <td>ABBA</td>\n",
       "      <td>As Good As New</td>\n",
       "      <td>/a/abba/as+good+as+new_20003033.html</td>\n",
       "      <td>I'll never know why I had to go  \\r\\nWhy I had...</td>\n",
       "    </tr>\n",
       "    <tr>\n",
       "      <th>3</th>\n",
       "      <td>ABBA</td>\n",
       "      <td>Bang</td>\n",
       "      <td>/a/abba/bang_20598415.html</td>\n",
       "      <td>Making somebody happy is a question of give an...</td>\n",
       "    </tr>\n",
       "    <tr>\n",
       "      <th>4</th>\n",
       "      <td>ABBA</td>\n",
       "      <td>Bang-A-Boomerang</td>\n",
       "      <td>/a/abba/bang+a+boomerang_20002668.html</td>\n",
       "      <td>Making somebody happy is a question of give an...</td>\n",
       "    </tr>\n",
       "  </tbody>\n",
       "</table>\n",
       "</div>"
      ],
      "text/plain": [
       "  artist                   song                                        link  \\\n",
       "0   ABBA  Ahe's My Kind Of Girl  /a/abba/ahes+my+kind+of+girl_20598417.html   \n",
       "1   ABBA       Andante, Andante       /a/abba/andante+andante_20002708.html   \n",
       "2   ABBA         As Good As New        /a/abba/as+good+as+new_20003033.html   \n",
       "3   ABBA                   Bang                  /a/abba/bang_20598415.html   \n",
       "4   ABBA       Bang-A-Boomerang      /a/abba/bang+a+boomerang_20002668.html   \n",
       "\n",
       "                                                text  \n",
       "0  Look at her face, it's a wonderful face  \\r\\nA...  \n",
       "1  Take it easy with me, please  \\r\\nTouch me gen...  \n",
       "2  I'll never know why I had to go  \\r\\nWhy I had...  \n",
       "3  Making somebody happy is a question of give an...  \n",
       "4  Making somebody happy is a question of give an...  "
      ]
     },
     "execution_count": 151,
     "metadata": {},
     "output_type": "execute_result"
    }
   ],
   "source": [
    "afrin.head(5) #first 5 tuples"
   ]
  },
  {
   "cell_type": "code",
   "execution_count": 152,
   "id": "7c2ec30e-1ebc-4974-8e70-43609f1a3912",
   "metadata": {},
   "outputs": [
    {
     "data": {
      "text/plain": [
       "(57650, 4)"
      ]
     },
     "execution_count": 152,
     "metadata": {},
     "output_type": "execute_result"
    }
   ],
   "source": [
    "afrin.shape #showed size of dataset"
   ]
  },
  {
   "cell_type": "code",
   "execution_count": 153,
   "id": "beca9e6f-42d2-4eaa-b4fc-0ec4ee9d5916",
   "metadata": {},
   "outputs": [
    {
     "data": {
      "text/plain": [
       "artist    0\n",
       "song      0\n",
       "link      0\n",
       "text      0\n",
       "dtype: int64"
      ]
     },
     "execution_count": 153,
     "metadata": {},
     "output_type": "execute_result"
    }
   ],
   "source": [
    "afrin.isnull().sum() #checked for null values"
   ]
  },
  {
   "cell_type": "code",
   "execution_count": 154,
   "id": "671a3c77-a6ba-4fa8-a0d4-71687218bc54",
   "metadata": {},
   "outputs": [],
   "source": [
    "afrin = afrin.sample(5000).drop('link', axis = 1).reset_index(drop = True) #we dropped the link colmun because it wasn't needed"
   ]
  },
  {
   "cell_type": "code",
   "execution_count": 155,
   "id": "40657e9c-21e8-4f8c-861c-d158380a48b9",
   "metadata": {},
   "outputs": [
    {
     "data": {
      "text/plain": [
       "\"We are boy scouts,  \\r\\nTrusting in our honour.  \\r\\nLoyal, Helpful,  \\r\\nFriend to One and All.  \\r\\n  \\r\\nEver Courteous,  \\r\\nEvery kind to animals,  \\r\\nWe obey our orders even though they're small.  \\r\\n  \\r\\nAlways cheerful,  \\r\\nWhistle through the rain drops.  \\r\\nCareful and thrifty,  \\r\\nClean in thought and deed.  \\r\\n  \\r\\nSo come on boys now,  \\r\\nDon't forget we're boy scouts.  \\r\\nBe prepared, be prepared,  \\r\\nKeep in mind the law.\\r\\n\\r\\n\""
      ]
     },
     "execution_count": 155,
     "metadata": {},
     "output_type": "execute_result"
    }
   ],
   "source": [
    "afrin['text'][11]"
   ]
  },
  {
   "cell_type": "code",
   "execution_count": 156,
   "id": "7ce34c55-b32a-457b-8a12-02815f75dc66",
   "metadata": {},
   "outputs": [
    {
     "data": {
      "text/plain": [
       "(5000, 3)"
      ]
     },
     "execution_count": 156,
     "metadata": {},
     "output_type": "execute_result"
    }
   ],
   "source": [
    "#afrin = afrin.sample(5000) #took sample of 5000...will try entire dataset when have more time\n",
    "afrin.shape"
   ]
  },
  {
   "cell_type": "code",
   "execution_count": 157,
   "id": "7e8f286c-fef7-44fe-a174-8021196b1e3e",
   "metadata": {},
   "outputs": [],
   "source": [
    "afrin['text'] = afrin['text'].str.lower().replace(r'^\\w\\s', '').replace(r'\\n','', regex = True) #preprocessing on text"
   ]
  },
  {
   "cell_type": "code",
   "execution_count": 192,
   "id": "9e68af76-4171-460a-ba15-c66cf4e5838b",
   "metadata": {},
   "outputs": [
    {
     "data": {
      "text/html": [
       "<div>\n",
       "<style scoped>\n",
       "    .dataframe tbody tr th:only-of-type {\n",
       "        vertical-align: middle;\n",
       "    }\n",
       "\n",
       "    .dataframe tbody tr th {\n",
       "        vertical-align: top;\n",
       "    }\n",
       "\n",
       "    .dataframe thead th {\n",
       "        text-align: right;\n",
       "    }\n",
       "</style>\n",
       "<table border=\"1\" class=\"dataframe\">\n",
       "  <thead>\n",
       "    <tr style=\"text-align: right;\">\n",
       "      <th></th>\n",
       "      <th>artist</th>\n",
       "      <th>song</th>\n",
       "      <th>text</th>\n",
       "    </tr>\n",
       "  </thead>\n",
       "  <tbody>\n",
       "    <tr>\n",
       "      <th>0</th>\n",
       "      <td>Helloween</td>\n",
       "      <td>Hocus Pocus</td>\n",
       "      <td>yodeadodoyodeadodoyodeadodoyodeadodo  \\ryodead...</td>\n",
       "    </tr>\n",
       "    <tr>\n",
       "      <th>1</th>\n",
       "      <td>Air Supply</td>\n",
       "      <td>Lost In Love</td>\n",
       "      <td>i realize the best part of love is the thinnes...</td>\n",
       "    </tr>\n",
       "    <tr>\n",
       "      <th>2</th>\n",
       "      <td>Mariah Carey</td>\n",
       "      <td>Circles</td>\n",
       "      <td>ever since you left me  \\ri've been trying to ...</td>\n",
       "    </tr>\n",
       "    <tr>\n",
       "      <th>3</th>\n",
       "      <td>Ray Charles</td>\n",
       "      <td>Rainy Night In Georgia</td>\n",
       "      <td>hoverin' by my suitcase, tryin' to find a warm...</td>\n",
       "    </tr>\n",
       "    <tr>\n",
       "      <th>4</th>\n",
       "      <td>Procol Harum</td>\n",
       "      <td>One More Time</td>\n",
       "      <td>good to get your message  \\rso you're coming b...</td>\n",
       "    </tr>\n",
       "    <tr>\n",
       "      <th>5</th>\n",
       "      <td>Richard Marx</td>\n",
       "      <td>Too Late To Say Goodbye</td>\n",
       "      <td>what i had to flaunt  \\rhas come back to haunt...</td>\n",
       "    </tr>\n",
       "    <tr>\n",
       "      <th>6</th>\n",
       "      <td>Tom T. Hall</td>\n",
       "      <td>Back When Gas Was Thirty Cents A Gallon</td>\n",
       "      <td>back when gas was thirty cents a gallon americ...</td>\n",
       "    </tr>\n",
       "    <tr>\n",
       "      <th>7</th>\n",
       "      <td>Kate Bush</td>\n",
       "      <td>There Goes A Tenner</td>\n",
       "      <td>okay, remember  \\rokay, remember  \\rthat we ha...</td>\n",
       "    </tr>\n",
       "    <tr>\n",
       "      <th>8</th>\n",
       "      <td>Gary Valenciano</td>\n",
       "      <td>Until Then</td>\n",
       "      <td>i, i long for the moment  \\rwhen i see you aga...</td>\n",
       "    </tr>\n",
       "    <tr>\n",
       "      <th>9</th>\n",
       "      <td>George Jones</td>\n",
       "      <td>Famous Last Words</td>\n",
       "      <td>she said trust me and i did, love me i did  \\r...</td>\n",
       "    </tr>\n",
       "    <tr>\n",
       "      <th>10</th>\n",
       "      <td>Neil Diamond</td>\n",
       "      <td>Happy Birthday Sweet Sixteen</td>\n",
       "      <td>tra la la la la la la la  \\rhappy birthday swe...</td>\n",
       "    </tr>\n",
       "    <tr>\n",
       "      <th>11</th>\n",
       "      <td>Unknown</td>\n",
       "      <td>We Are Boy Scouts (Scout Law Song)</td>\n",
       "      <td>we are boy scouts,  \\rtrusting in our honour. ...</td>\n",
       "    </tr>\n",
       "    <tr>\n",
       "      <th>12</th>\n",
       "      <td>Slayer</td>\n",
       "      <td>Hate Worldwide</td>\n",
       "      <td>i stab you right between the eyes  \\ryou awake...</td>\n",
       "    </tr>\n",
       "    <tr>\n",
       "      <th>13</th>\n",
       "      <td>Everlast</td>\n",
       "      <td>I Can't Move</td>\n",
       "      <td>watching the sun shine, peaking over the sky l...</td>\n",
       "    </tr>\n",
       "    <tr>\n",
       "      <th>14</th>\n",
       "      <td>Kenny Chesney</td>\n",
       "      <td>Beer In Mexico</td>\n",
       "      <td>starin' out into the wild blue yonder  \\rso ma...</td>\n",
       "    </tr>\n",
       "    <tr>\n",
       "      <th>15</th>\n",
       "      <td>Wiz Khalifa</td>\n",
       "      <td>Make A Play</td>\n",
       "      <td>[intro]  \\rback to back to back to back  \\rat ...</td>\n",
       "    </tr>\n",
       "    <tr>\n",
       "      <th>16</th>\n",
       "      <td>Ozzy Osbourne</td>\n",
       "      <td>Black Sabbath</td>\n",
       "      <td>what is this that stands before me  \\rfigure i...</td>\n",
       "    </tr>\n",
       "    <tr>\n",
       "      <th>17</th>\n",
       "      <td>Outkast</td>\n",
       "      <td>Get Rich To This</td>\n",
       "      <td>chorus: goodie mob  \\r  \\rwe peel out sideways...</td>\n",
       "    </tr>\n",
       "    <tr>\n",
       "      <th>18</th>\n",
       "      <td>P!nk</td>\n",
       "      <td>Bad Influence</td>\n",
       "      <td>alright sir  \\rsure i'll have another one it's...</td>\n",
       "    </tr>\n",
       "    <tr>\n",
       "      <th>19</th>\n",
       "      <td>Def Leppard</td>\n",
       "      <td>Hysteria</td>\n",
       "      <td>out of touch, out of reach, yeah  \\ryou could ...</td>\n",
       "    </tr>\n",
       "    <tr>\n",
       "      <th>20</th>\n",
       "      <td>Bob Dylan</td>\n",
       "      <td>Blue Moon</td>\n",
       "      <td>blue moon, you saw me standing alone  \\rwithou...</td>\n",
       "    </tr>\n",
       "    <tr>\n",
       "      <th>21</th>\n",
       "      <td>Offspring</td>\n",
       "      <td>Crossroads</td>\n",
       "      <td>time has washed away  \\rand now i may wonder  ...</td>\n",
       "    </tr>\n",
       "    <tr>\n",
       "      <th>22</th>\n",
       "      <td>Oscar Hammerstein</td>\n",
       "      <td>I Cain't Say No</td>\n",
       "      <td>it ain't so much a question of not knowin' wha...</td>\n",
       "    </tr>\n",
       "    <tr>\n",
       "      <th>23</th>\n",
       "      <td>Tina Turner</td>\n",
       "      <td>I Can't Stop Loving You</td>\n",
       "      <td>(i can't stop loving you)  \\ri've made up my m...</td>\n",
       "    </tr>\n",
       "    <tr>\n",
       "      <th>24</th>\n",
       "      <td>Talking Heads</td>\n",
       "      <td>Big Daddy</td>\n",
       "      <td>she had such tiny tears  \\rjust like a barbie ...</td>\n",
       "    </tr>\n",
       "    <tr>\n",
       "      <th>25</th>\n",
       "      <td>Tom Jones</td>\n",
       "      <td>It Must Be You</td>\n",
       "      <td>the sun is shining, it's everywhere  \\rdon't h...</td>\n",
       "    </tr>\n",
       "    <tr>\n",
       "      <th>26</th>\n",
       "      <td>Coldplay</td>\n",
       "      <td>A Message</td>\n",
       "      <td>my song is love  \\rlove to the lovers shone  \\...</td>\n",
       "    </tr>\n",
       "    <tr>\n",
       "      <th>27</th>\n",
       "      <td>Madonna</td>\n",
       "      <td>I'm In Love With Love</td>\n",
       "      <td>is it the rain, or is it the weather  \\ram i i...</td>\n",
       "    </tr>\n",
       "    <tr>\n",
       "      <th>28</th>\n",
       "      <td>Miley Cyrus</td>\n",
       "      <td>Right Here</td>\n",
       "      <td>i'll be right here where you need me  \\ranytim...</td>\n",
       "    </tr>\n",
       "    <tr>\n",
       "      <th>29</th>\n",
       "      <td>Squeeze</td>\n",
       "      <td>Out Of Control</td>\n",
       "      <td>i like schoolgirls and lollipops  \\rwhite sock...</td>\n",
       "    </tr>\n",
       "    <tr>\n",
       "      <th>30</th>\n",
       "      <td>Supertramp</td>\n",
       "      <td>Rosie Had Everything Planned</td>\n",
       "      <td>acting upon information received  \\rrosie had ...</td>\n",
       "    </tr>\n",
       "    <tr>\n",
       "      <th>31</th>\n",
       "      <td>The Killers</td>\n",
       "      <td>Joseph, Better You Than Me</td>\n",
       "      <td>the killers  \\rwell your eyes just haven?t bee...</td>\n",
       "    </tr>\n",
       "    <tr>\n",
       "      <th>32</th>\n",
       "      <td>Zebrahead</td>\n",
       "      <td>Postcards From Hell</td>\n",
       "      <td>i didn't see the signs posted on the road  \\rd...</td>\n",
       "    </tr>\n",
       "    <tr>\n",
       "      <th>33</th>\n",
       "      <td>Michael Buble</td>\n",
       "      <td>Come Fly With Me</td>\n",
       "      <td>come fly with me, let's fly let's fly away  \\r...</td>\n",
       "    </tr>\n",
       "    <tr>\n",
       "      <th>34</th>\n",
       "      <td>Waterboys</td>\n",
       "      <td>Bury My Heart</td>\n",
       "      <td>bury my soul  \\rwhere the dust meets the sea  ...</td>\n",
       "    </tr>\n",
       "    <tr>\n",
       "      <th>35</th>\n",
       "      <td>Neil Sedaka</td>\n",
       "      <td>Time Marches On</td>\n",
       "      <td>time marches on, mountains may turn to dust  \\...</td>\n",
       "    </tr>\n",
       "    <tr>\n",
       "      <th>36</th>\n",
       "      <td>Everclear</td>\n",
       "      <td>Overwhelming</td>\n",
       "      <td>it can come from out of nowhere  \\rhit you whe...</td>\n",
       "    </tr>\n",
       "    <tr>\n",
       "      <th>37</th>\n",
       "      <td>OneRepublic</td>\n",
       "      <td>Ordinary Human</td>\n",
       "      <td>today i took a walk in the clouds  \\rtoday i t...</td>\n",
       "    </tr>\n",
       "    <tr>\n",
       "      <th>38</th>\n",
       "      <td>Beautiful South</td>\n",
       "      <td>Poppy</td>\n",
       "      <td>'i fought hard in the second world war'  \\ryou...</td>\n",
       "    </tr>\n",
       "    <tr>\n",
       "      <th>39</th>\n",
       "      <td>Ramones</td>\n",
       "      <td>Rockaway Beach</td>\n",
       "      <td>chewing out a rhythm on my bubble gum the sun ...</td>\n",
       "    </tr>\n",
       "    <tr>\n",
       "      <th>40</th>\n",
       "      <td>Travis</td>\n",
       "      <td>Sing</td>\n",
       "      <td>baby, you've been going so crazy  \\rlately, no...</td>\n",
       "    </tr>\n",
       "    <tr>\n",
       "      <th>41</th>\n",
       "      <td>Death</td>\n",
       "      <td>A Moment Of Clarity</td>\n",
       "      <td>i would describe it as a invisible darkness  \\...</td>\n",
       "    </tr>\n",
       "    <tr>\n",
       "      <th>42</th>\n",
       "      <td>Tom Jones</td>\n",
       "      <td>Holiday</td>\n",
       "      <td>oh man  \\ri can't go to work  \\ri got 2 more s...</td>\n",
       "    </tr>\n",
       "    <tr>\n",
       "      <th>43</th>\n",
       "      <td>Nine Inch Nails</td>\n",
       "      <td>Find My Way</td>\n",
       "      <td>lord my path has gone astray  \\ri'm just tryin...</td>\n",
       "    </tr>\n",
       "    <tr>\n",
       "      <th>44</th>\n",
       "      <td>Waterboys</td>\n",
       "      <td>The Three Day Man</td>\n",
       "      <td>i'm the three day man  \\rit's three days too l...</td>\n",
       "    </tr>\n",
       "    <tr>\n",
       "      <th>45</th>\n",
       "      <td>Kanye West</td>\n",
       "      <td>Graduation Day</td>\n",
       "      <td>what in the fuck was that kanye  \\ri told you ...</td>\n",
       "    </tr>\n",
       "    <tr>\n",
       "      <th>46</th>\n",
       "      <td>Pearl Jam</td>\n",
       "      <td>Even Flow</td>\n",
       "      <td>freezin' rests his head on a pillow made of co...</td>\n",
       "    </tr>\n",
       "    <tr>\n",
       "      <th>47</th>\n",
       "      <td>Dan Fogelberg</td>\n",
       "      <td>Long Way Home</td>\n",
       "      <td>running in the wrong direction  \\risn't it a l...</td>\n",
       "    </tr>\n",
       "    <tr>\n",
       "      <th>48</th>\n",
       "      <td>Dean Martin</td>\n",
       "      <td>I Have But One Heart (O Marenariello)</td>\n",
       "      <td>i have but one heart  \\rthis heart i bring you...</td>\n",
       "    </tr>\n",
       "    <tr>\n",
       "      <th>49</th>\n",
       "      <td>Fabolous</td>\n",
       "      <td>Don't Stop Won't Stop</td>\n",
       "      <td>it's been a year and some change  \\rand i've b...</td>\n",
       "    </tr>\n",
       "    <tr>\n",
       "      <th>50</th>\n",
       "      <td>Van Morrison</td>\n",
       "      <td>Gypsy</td>\n",
       "      <td>you can make out pretty good  \\rwhen you're on...</td>\n",
       "    </tr>\n",
       "    <tr>\n",
       "      <th>51</th>\n",
       "      <td>Morrissey</td>\n",
       "      <td>Disappointed</td>\n",
       "      <td>our unsleepable friend  \\rgets the message on ...</td>\n",
       "    </tr>\n",
       "    <tr>\n",
       "      <th>52</th>\n",
       "      <td>Oingo Boingo</td>\n",
       "      <td>Nasty Habits</td>\n",
       "      <td>here's something to think about  \\rwhere would...</td>\n",
       "    </tr>\n",
       "    <tr>\n",
       "      <th>53</th>\n",
       "      <td>Imagine Dragons</td>\n",
       "      <td>Friction</td>\n",
       "      <td>[verse 1]  \\rget down with the victim  \\rwe bo...</td>\n",
       "    </tr>\n",
       "    <tr>\n",
       "      <th>54</th>\n",
       "      <td>Chris Rea</td>\n",
       "      <td>On The Beach</td>\n",
       "      <td>between the eyes of love i call your name  \\rb...</td>\n",
       "    </tr>\n",
       "    <tr>\n",
       "      <th>55</th>\n",
       "      <td>Supertramp</td>\n",
       "      <td>Aries</td>\n",
       "      <td>right, let's get the whole thing cooking)  \\r ...</td>\n",
       "    </tr>\n",
       "    <tr>\n",
       "      <th>56</th>\n",
       "      <td>Matt Redman</td>\n",
       "      <td>Oh Come Let Us Adore Him</td>\n",
       "      <td>o come let us adore him  \\ro come let us adore...</td>\n",
       "    </tr>\n",
       "    <tr>\n",
       "      <th>57</th>\n",
       "      <td>Aiza Seguerra</td>\n",
       "      <td>If We Try</td>\n",
       "      <td>when i see you on the street  \\ri lose my conc...</td>\n",
       "    </tr>\n",
       "    <tr>\n",
       "      <th>58</th>\n",
       "      <td>Glee</td>\n",
       "      <td>I Won't Give Up</td>\n",
       "      <td>when i look into your eyes  \\rit's like watchi...</td>\n",
       "    </tr>\n",
       "    <tr>\n",
       "      <th>59</th>\n",
       "      <td>Neil Diamond</td>\n",
       "      <td>Elijah's Song</td>\n",
       "      <td>got a rock and roll ditty  \\rfrom the heart of...</td>\n",
       "    </tr>\n",
       "  </tbody>\n",
       "</table>\n",
       "</div>"
      ],
      "text/plain": [
       "               artist                                     song  \\\n",
       "0           Helloween                              Hocus Pocus   \n",
       "1          Air Supply                             Lost In Love   \n",
       "2        Mariah Carey                                  Circles   \n",
       "3         Ray Charles                   Rainy Night In Georgia   \n",
       "4        Procol Harum                            One More Time   \n",
       "5        Richard Marx                  Too Late To Say Goodbye   \n",
       "6         Tom T. Hall  Back When Gas Was Thirty Cents A Gallon   \n",
       "7           Kate Bush                      There Goes A Tenner   \n",
       "8     Gary Valenciano                               Until Then   \n",
       "9        George Jones                        Famous Last Words   \n",
       "10       Neil Diamond             Happy Birthday Sweet Sixteen   \n",
       "11            Unknown       We Are Boy Scouts (Scout Law Song)   \n",
       "12             Slayer                           Hate Worldwide   \n",
       "13           Everlast                             I Can't Move   \n",
       "14      Kenny Chesney                           Beer In Mexico   \n",
       "15        Wiz Khalifa                              Make A Play   \n",
       "16      Ozzy Osbourne                            Black Sabbath   \n",
       "17            Outkast                         Get Rich To This   \n",
       "18               P!nk                            Bad Influence   \n",
       "19        Def Leppard                                 Hysteria   \n",
       "20          Bob Dylan                                Blue Moon   \n",
       "21          Offspring                               Crossroads   \n",
       "22  Oscar Hammerstein                          I Cain't Say No   \n",
       "23        Tina Turner                  I Can't Stop Loving You   \n",
       "24      Talking Heads                                Big Daddy   \n",
       "25          Tom Jones                           It Must Be You   \n",
       "26           Coldplay                                A Message   \n",
       "27            Madonna                    I'm In Love With Love   \n",
       "28        Miley Cyrus                               Right Here   \n",
       "29            Squeeze                           Out Of Control   \n",
       "30         Supertramp             Rosie Had Everything Planned   \n",
       "31        The Killers               Joseph, Better You Than Me   \n",
       "32          Zebrahead                      Postcards From Hell   \n",
       "33      Michael Buble                         Come Fly With Me   \n",
       "34          Waterboys                            Bury My Heart   \n",
       "35        Neil Sedaka                          Time Marches On   \n",
       "36          Everclear                             Overwhelming   \n",
       "37        OneRepublic                           Ordinary Human   \n",
       "38    Beautiful South                                    Poppy   \n",
       "39            Ramones                           Rockaway Beach   \n",
       "40             Travis                                     Sing   \n",
       "41              Death                      A Moment Of Clarity   \n",
       "42          Tom Jones                                  Holiday   \n",
       "43    Nine Inch Nails                              Find My Way   \n",
       "44          Waterboys                        The Three Day Man   \n",
       "45         Kanye West                           Graduation Day   \n",
       "46          Pearl Jam                                Even Flow   \n",
       "47      Dan Fogelberg                            Long Way Home   \n",
       "48        Dean Martin    I Have But One Heart (O Marenariello)   \n",
       "49           Fabolous                    Don't Stop Won't Stop   \n",
       "50       Van Morrison                                    Gypsy   \n",
       "51          Morrissey                             Disappointed   \n",
       "52       Oingo Boingo                             Nasty Habits   \n",
       "53    Imagine Dragons                                 Friction   \n",
       "54          Chris Rea                             On The Beach   \n",
       "55         Supertramp                                    Aries   \n",
       "56        Matt Redman                 Oh Come Let Us Adore Him   \n",
       "57      Aiza Seguerra                                If We Try   \n",
       "58               Glee                          I Won't Give Up   \n",
       "59       Neil Diamond                            Elijah's Song   \n",
       "\n",
       "                                                 text  \n",
       "0   yodeadodoyodeadodoyodeadodoyodeadodo  \\ryodead...  \n",
       "1   i realize the best part of love is the thinnes...  \n",
       "2   ever since you left me  \\ri've been trying to ...  \n",
       "3   hoverin' by my suitcase, tryin' to find a warm...  \n",
       "4   good to get your message  \\rso you're coming b...  \n",
       "5   what i had to flaunt  \\rhas come back to haunt...  \n",
       "6   back when gas was thirty cents a gallon americ...  \n",
       "7   okay, remember  \\rokay, remember  \\rthat we ha...  \n",
       "8   i, i long for the moment  \\rwhen i see you aga...  \n",
       "9   she said trust me and i did, love me i did  \\r...  \n",
       "10  tra la la la la la la la  \\rhappy birthday swe...  \n",
       "11  we are boy scouts,  \\rtrusting in our honour. ...  \n",
       "12  i stab you right between the eyes  \\ryou awake...  \n",
       "13  watching the sun shine, peaking over the sky l...  \n",
       "14  starin' out into the wild blue yonder  \\rso ma...  \n",
       "15  [intro]  \\rback to back to back to back  \\rat ...  \n",
       "16  what is this that stands before me  \\rfigure i...  \n",
       "17  chorus: goodie mob  \\r  \\rwe peel out sideways...  \n",
       "18  alright sir  \\rsure i'll have another one it's...  \n",
       "19  out of touch, out of reach, yeah  \\ryou could ...  \n",
       "20  blue moon, you saw me standing alone  \\rwithou...  \n",
       "21  time has washed away  \\rand now i may wonder  ...  \n",
       "22  it ain't so much a question of not knowin' wha...  \n",
       "23  (i can't stop loving you)  \\ri've made up my m...  \n",
       "24  she had such tiny tears  \\rjust like a barbie ...  \n",
       "25  the sun is shining, it's everywhere  \\rdon't h...  \n",
       "26  my song is love  \\rlove to the lovers shone  \\...  \n",
       "27  is it the rain, or is it the weather  \\ram i i...  \n",
       "28  i'll be right here where you need me  \\ranytim...  \n",
       "29  i like schoolgirls and lollipops  \\rwhite sock...  \n",
       "30  acting upon information received  \\rrosie had ...  \n",
       "31  the killers  \\rwell your eyes just haven?t bee...  \n",
       "32  i didn't see the signs posted on the road  \\rd...  \n",
       "33  come fly with me, let's fly let's fly away  \\r...  \n",
       "34  bury my soul  \\rwhere the dust meets the sea  ...  \n",
       "35  time marches on, mountains may turn to dust  \\...  \n",
       "36  it can come from out of nowhere  \\rhit you whe...  \n",
       "37  today i took a walk in the clouds  \\rtoday i t...  \n",
       "38  'i fought hard in the second world war'  \\ryou...  \n",
       "39  chewing out a rhythm on my bubble gum the sun ...  \n",
       "40  baby, you've been going so crazy  \\rlately, no...  \n",
       "41  i would describe it as a invisible darkness  \\...  \n",
       "42  oh man  \\ri can't go to work  \\ri got 2 more s...  \n",
       "43  lord my path has gone astray  \\ri'm just tryin...  \n",
       "44  i'm the three day man  \\rit's three days too l...  \n",
       "45  what in the fuck was that kanye  \\ri told you ...  \n",
       "46  freezin' rests his head on a pillow made of co...  \n",
       "47  running in the wrong direction  \\risn't it a l...  \n",
       "48  i have but one heart  \\rthis heart i bring you...  \n",
       "49  it's been a year and some change  \\rand i've b...  \n",
       "50  you can make out pretty good  \\rwhen you're on...  \n",
       "51  our unsleepable friend  \\rgets the message on ...  \n",
       "52  here's something to think about  \\rwhere would...  \n",
       "53  [verse 1]  \\rget down with the victim  \\rwe bo...  \n",
       "54  between the eyes of love i call your name  \\rb...  \n",
       "55  right, let's get the whole thing cooking)  \\r ...  \n",
       "56  o come let us adore him  \\ro come let us adore...  \n",
       "57  when i see you on the street  \\ri lose my conc...  \n",
       "58  when i look into your eyes  \\rit's like watchi...  \n",
       "59  got a rock and roll ditty  \\rfrom the heart of...  "
      ]
     },
     "execution_count": 192,
     "metadata": {},
     "output_type": "execute_result"
    }
   ],
   "source": [
    "    afrin.head(60) "
   ]
  },
  {
   "cell_type": "code",
   "execution_count": 159,
   "id": "951b51fb-c1df-4700-b00d-3ea40bbf9dba",
   "metadata": {},
   "outputs": [
    {
     "name": "stderr",
     "output_type": "stream",
     "text": [
      "[nltk_data] Downloading package punkt to\n",
      "[nltk_data]     /Users/mikeydelgado/nltk_data...\n",
      "[nltk_data]   Package punkt is already up-to-date!\n"
     ]
    }
   ],
   "source": [
    "#now we convert the textual data into tokens so we can parse it\n",
    "import nltk\n",
    "nltk.download('punkt')\n",
    "from nltk.stem.porter import PorterStemmer #importing a stem porter here so we can stem stuff uWu"
   ]
  },
  {
   "cell_type": "code",
   "execution_count": 160,
   "id": "852e641f-4e1e-4b53-99b9-94e5b778cde6",
   "metadata": {},
   "outputs": [],
   "source": [
    "#created a porter stemmer object\n",
    "sanzi = PorterStemmer()"
   ]
  },
  {
   "cell_type": "code",
   "execution_count": 161,
   "id": "8adf75e7-758c-4954-8f7c-6030b8c4df49",
   "metadata": {},
   "outputs": [],
   "source": [
    "#defined a token function which takes txt as argument\n",
    "#converted tags into tokens via nltk\n",
    "\n",
    "def token(txt):\n",
    "    token = nltk.word_tokenize(txt) #we have a lot of tokens here\n",
    "    sultana = [sanzi.stem(w) for w in token]#we stored all tokens in a list\n",
    "    return \" \".join(sultana)"
   ]
  },
  {
   "cell_type": "code",
   "execution_count": 162,
   "id": "ded20616-82aa-4144-bb96-00b7edff97c7",
   "metadata": {},
   "outputs": [
    {
     "data": {
      "text/plain": [
       "'you are beauti , beauti'"
      ]
     },
     "execution_count": 162,
     "metadata": {},
     "output_type": "execute_result"
    }
   ],
   "source": [
    "token(\"you are beautiful, beauty\")"
   ]
  },
  {
   "cell_type": "code",
   "execution_count": 163,
   "id": "61945330-25e0-44e5-b90e-b3f5b5b8d295",
   "metadata": {},
   "outputs": [
    {
     "data": {
      "text/plain": [
       "0       yodeadodoyodeadodoyodeadodoyodeadodo yodeadodo...\n",
       "1       i realiz the best part of love is the thinnest...\n",
       "2       ever sinc you left me i 've been tri to hide t...\n",
       "3       hoverin ' by my suitcas , tryin ' to find a wa...\n",
       "4       good to get your messag so you 're come back h...\n",
       "                              ...                        \n",
       "4995    [ choru : ] i think i would , if i could kill ...\n",
       "4996    time just watch the time slippin ' away gim me...\n",
       "4997    sit on an angri chair angri wall that steal th...\n",
       "4998    when tear are in your eye it 's time to look i...\n",
       "4999    i break everi day stress out in everi kind of ...\n",
       "Name: text, Length: 5000, dtype: object"
      ]
     },
     "execution_count": 163,
     "metadata": {},
     "output_type": "execute_result"
    }
   ],
   "source": [
    "#i applied token function to whole dataset \n",
    "#might take some time bc of size\n",
    "afrin['text'].apply(lambda x: token(x))"
   ]
  },
  {
   "cell_type": "code",
   "execution_count": 164,
   "id": "19e4bfa4-94d6-48b3-a472-6f571a35be56",
   "metadata": {},
   "outputs": [],
   "source": [
    "#now we gotta convert things into vectors...using the tf idf vectorizer\n",
    "#we need to import sklearn and do freature extraction\n",
    "from sklearn.feature_extraction.text import TfidfVectorizer\n",
    "\n",
    "#then i imported the cosine similarity to calculate distance between data points\n",
    "from sklearn.metrics.pairwise import cosine_similarity"
   ]
  },
  {
   "cell_type": "code",
   "execution_count": 165,
   "id": "111b2287-4fe3-4be1-ba00-63d83d1c4326",
   "metadata": {},
   "outputs": [],
   "source": [
    "#now im applying the tf idf vectorizer \n",
    "#25.21\n",
    "tfid = TfidfVectorizer(analyzer='word', stop_words = 'english')"
   ]
  },
  {
   "cell_type": "code",
   "execution_count": 166,
   "id": "2fcf7bc7-37e5-4ce9-88f9-da916945b034",
   "metadata": {},
   "outputs": [],
   "source": [
    "matrix = tfid.fit_transform(afrin['text'])\n",
    "#shows sparse matrix of the data"
   ]
  },
  {
   "cell_type": "code",
   "execution_count": 167,
   "id": "0ed241e6-8da8-4436-a05b-6f984b30b065",
   "metadata": {},
   "outputs": [],
   "source": [
    "#this shows us the similarity values/similarity data points\n",
    "ca = cosine_similarity(matrix)"
   ]
  },
  {
   "cell_type": "code",
   "execution_count": 168,
   "id": "3ea63cea-a0ae-4a86-8bed-107fc5630e9f",
   "metadata": {},
   "outputs": [
    {
     "data": {
      "text/plain": [
       "array([1., 0., 0., ..., 0., 0., 0.])"
      ]
     },
     "execution_count": 168,
     "metadata": {},
     "output_type": "execute_result"
    }
   ],
   "source": [
    "ca[0]"
   ]
  },
  {
   "cell_type": "code",
   "execution_count": 170,
   "id": "f8238085-09e5-4561-804c-8ffff37f7ca7",
   "metadata": {},
   "outputs": [
    {
     "data": {
      "text/plain": [
       "1820"
      ]
     },
     "execution_count": 170,
     "metadata": {},
     "output_type": "execute_result"
    }
   ],
   "source": [
    "#NOW we need to make the reccomendation function(s)\n",
    "#this is the wholerow and we add a .index cause we wanna see the index number\n",
    "#with that \n",
    "afrin[afrin['song'] == 'Sick And Tired'].index[0]"
   ]
  },
  {
   "cell_type": "code",
   "execution_count": 179,
   "id": "f5a4219a-9d1e-4181-935c-1b2b7b6be96f",
   "metadata": {},
   "outputs": [],
   "source": [
    "#now here's the actual reccomender function stuff\n",
    "#took the song ID of each song\n",
    "\n",
    "def recommender(song_name):\n",
    "    idx = afrin[afrin['song'] == song_name].index[0]\n",
    "    distance = sorted(list(enumerate(ca[idx])), reverse=True, key=lambda x:x[1])\n",
    "    song = []\n",
    "    for s_id in distance [1:21]: #change the five for the amount of outputs\n",
    "        song.append(afrin.iloc[s_id[0]].song)\n",
    "    return song\n",
    "\n",
    "#now we calculate distance...we made a list, and ennumerated all values based on idx value (passing for similarity)...and we sorted it AND\n",
    "#we reversed it cause we indexed from the last\n",
    "    \n",
    "    \n"
   ]
  },
  {
   "cell_type": "code",
   "execution_count": 193,
   "id": "832be7cd-5cd0-49e8-aeae-4f88f6d468b0",
   "metadata": {},
   "outputs": [
    {
     "data": {
      "text/plain": [
       "['Radio',\n",
       " 'Static Age',\n",
       " 'What Happened Here',\n",
       " 'Warm Fuzzy Feeling',\n",
       " 'Should I Laugh Or Cry',\n",
       " 'Straight Edge',\n",
       " \"Hold On I'm Coming\",\n",
       " 'Reason To Believe',\n",
       " 'Coming With You',\n",
       " 'Down On My Head',\n",
       " \"I'd Like That\",\n",
       " 'Bombollini',\n",
       " 'Kitty',\n",
       " 'Part Of The List',\n",
       " 'Last Chance Train',\n",
       " '7 Things',\n",
       " 'She Gets That Way',\n",
       " 'Caffeine Cold',\n",
       " 'May This Be Love (Waterfall)',\n",
       " 'I Will']"
      ]
     },
     "execution_count": 193,
     "metadata": {},
     "output_type": "execute_result"
    }
   ],
   "source": [
    "recommender(\"Poppy\")"
   ]
  },
  {
   "cell_type": "code",
   "execution_count": 181,
   "id": "0ac46cb4-6771-46ff-9d5f-0db7220a49cd",
   "metadata": {},
   "outputs": [],
   "source": [
    "import pickle "
   ]
  },
  {
   "cell_type": "code",
   "execution_count": 184,
   "id": "dd09478c-1a3b-42f8-9b32-d3c837c1edd7",
   "metadata": {},
   "outputs": [],
   "source": [
    "pickle.dump(ca, open(\"similarity\", 'wb'))\n",
    "#how we dump our whole model....we'll use similarity and data frame in app"
   ]
  },
  {
   "cell_type": "code",
   "execution_count": 185,
   "id": "e07dd9ea-e20c-4972-884e-6c01aa3763cd",
   "metadata": {},
   "outputs": [],
   "source": [
    "pickle.dump(afrin, open(\"df\", \"wb\"))"
   ]
  },
  {
   "cell_type": "code",
   "execution_count": null,
   "id": "332be1ce-823c-49e3-8ce0-668ec754e78b",
   "metadata": {},
   "outputs": [],
   "source": []
  }
 ],
 "metadata": {
  "kernelspec": {
   "display_name": "Python 3 (ipykernel)",
   "language": "python",
   "name": "python3"
  },
  "language_info": {
   "codemirror_mode": {
    "name": "ipython",
    "version": 3
   },
   "file_extension": ".py",
   "mimetype": "text/x-python",
   "name": "python",
   "nbconvert_exporter": "python",
   "pygments_lexer": "ipython3",
   "version": "3.11.7"
  }
 },
 "nbformat": 4,
 "nbformat_minor": 5
}
