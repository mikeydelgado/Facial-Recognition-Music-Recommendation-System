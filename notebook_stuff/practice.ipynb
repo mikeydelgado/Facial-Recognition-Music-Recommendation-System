{
 "cells": [
  {
   "cell_type": "code",
   "execution_count": 1,
   "id": "30e5c729-d296-4e99-b519-b10c0020569d",
   "metadata": {},
   "outputs": [],
   "source": [
    "import pandas as pd"
   ]
  },
  {
   "cell_type": "code",
   "execution_count": 2,
   "id": "d1730679-60c5-451c-8965-8385dc3e6c20",
   "metadata": {},
   "outputs": [],
   "source": [
    "afrin = pd.read_csv(\"spotify_millsongdata.csv\")"
   ]
  },
  {
   "cell_type": "code",
   "execution_count": 3,
   "id": "3bdac71e-a99e-428c-a469-8f8783c6cf29",
   "metadata": {},
   "outputs": [
    {
     "data": {
      "text/html": [
       "<div>\n",
       "<style scoped>\n",
       "    .dataframe tbody tr th:only-of-type {\n",
       "        vertical-align: middle;\n",
       "    }\n",
       "\n",
       "    .dataframe tbody tr th {\n",
       "        vertical-align: top;\n",
       "    }\n",
       "\n",
       "    .dataframe thead th {\n",
       "        text-align: right;\n",
       "    }\n",
       "</style>\n",
       "<table border=\"1\" class=\"dataframe\">\n",
       "  <thead>\n",
       "    <tr style=\"text-align: right;\">\n",
       "      <th></th>\n",
       "      <th>artist</th>\n",
       "      <th>song</th>\n",
       "      <th>link</th>\n",
       "      <th>text</th>\n",
       "    </tr>\n",
       "  </thead>\n",
       "  <tbody>\n",
       "    <tr>\n",
       "      <th>0</th>\n",
       "      <td>ABBA</td>\n",
       "      <td>Ahe's My Kind Of Girl</td>\n",
       "      <td>/a/abba/ahes+my+kind+of+girl_20598417.html</td>\n",
       "      <td>Look at her face, it's a wonderful face  \\r\\nA...</td>\n",
       "    </tr>\n",
       "    <tr>\n",
       "      <th>1</th>\n",
       "      <td>ABBA</td>\n",
       "      <td>Andante, Andante</td>\n",
       "      <td>/a/abba/andante+andante_20002708.html</td>\n",
       "      <td>Take it easy with me, please  \\r\\nTouch me gen...</td>\n",
       "    </tr>\n",
       "    <tr>\n",
       "      <th>2</th>\n",
       "      <td>ABBA</td>\n",
       "      <td>As Good As New</td>\n",
       "      <td>/a/abba/as+good+as+new_20003033.html</td>\n",
       "      <td>I'll never know why I had to go  \\r\\nWhy I had...</td>\n",
       "    </tr>\n",
       "    <tr>\n",
       "      <th>3</th>\n",
       "      <td>ABBA</td>\n",
       "      <td>Bang</td>\n",
       "      <td>/a/abba/bang_20598415.html</td>\n",
       "      <td>Making somebody happy is a question of give an...</td>\n",
       "    </tr>\n",
       "    <tr>\n",
       "      <th>4</th>\n",
       "      <td>ABBA</td>\n",
       "      <td>Bang-A-Boomerang</td>\n",
       "      <td>/a/abba/bang+a+boomerang_20002668.html</td>\n",
       "      <td>Making somebody happy is a question of give an...</td>\n",
       "    </tr>\n",
       "  </tbody>\n",
       "</table>\n",
       "</div>"
      ],
      "text/plain": [
       "  artist                   song                                        link  \\\n",
       "0   ABBA  Ahe's My Kind Of Girl  /a/abba/ahes+my+kind+of+girl_20598417.html   \n",
       "1   ABBA       Andante, Andante       /a/abba/andante+andante_20002708.html   \n",
       "2   ABBA         As Good As New        /a/abba/as+good+as+new_20003033.html   \n",
       "3   ABBA                   Bang                  /a/abba/bang_20598415.html   \n",
       "4   ABBA       Bang-A-Boomerang      /a/abba/bang+a+boomerang_20002668.html   \n",
       "\n",
       "                                                text  \n",
       "0  Look at her face, it's a wonderful face  \\r\\nA...  \n",
       "1  Take it easy with me, please  \\r\\nTouch me gen...  \n",
       "2  I'll never know why I had to go  \\r\\nWhy I had...  \n",
       "3  Making somebody happy is a question of give an...  \n",
       "4  Making somebody happy is a question of give an...  "
      ]
     },
     "execution_count": 3,
     "metadata": {},
     "output_type": "execute_result"
    }
   ],
   "source": [
    "afrin.head(5)"
   ]
  },
  {
   "cell_type": "code",
   "execution_count": 4,
   "id": "7d176ba3-f028-44e8-94b5-bd98caa7f349",
   "metadata": {},
   "outputs": [
    {
     "data": {
      "text/plain": [
       "(57650, 4)"
      ]
     },
     "execution_count": 4,
     "metadata": {},
     "output_type": "execute_result"
    }
   ],
   "source": [
    "afrin.shape"
   ]
  },
  {
   "cell_type": "code",
   "execution_count": 5,
   "id": "03ca60a9-7309-4669-bf5b-bb096548cd15",
   "metadata": {},
   "outputs": [
    {
     "data": {
      "text/plain": [
       "artist    0\n",
       "song      0\n",
       "link      0\n",
       "text      0\n",
       "dtype: int64"
      ]
     },
     "execution_count": 5,
     "metadata": {},
     "output_type": "execute_result"
    }
   ],
   "source": [
    "afrin.isnull().sum()"
   ]
  },
  {
   "cell_type": "code",
   "execution_count": 6,
   "id": "42c9665d-c28e-45ed-8a69-75e55b0da510",
   "metadata": {},
   "outputs": [
    {
     "data": {
      "text/html": [
       "<div>\n",
       "<style scoped>\n",
       "    .dataframe tbody tr th:only-of-type {\n",
       "        vertical-align: middle;\n",
       "    }\n",
       "\n",
       "    .dataframe tbody tr th {\n",
       "        vertical-align: top;\n",
       "    }\n",
       "\n",
       "    .dataframe thead th {\n",
       "        text-align: right;\n",
       "    }\n",
       "</style>\n",
       "<table border=\"1\" class=\"dataframe\">\n",
       "  <thead>\n",
       "    <tr style=\"text-align: right;\">\n",
       "      <th></th>\n",
       "      <th>artist</th>\n",
       "      <th>song</th>\n",
       "      <th>text</th>\n",
       "    </tr>\n",
       "  </thead>\n",
       "  <tbody>\n",
       "    <tr>\n",
       "      <th>0</th>\n",
       "      <td>ABBA</td>\n",
       "      <td>Ahe's My Kind Of Girl</td>\n",
       "      <td>Look at her face, it's a wonderful face  \\r\\nA...</td>\n",
       "    </tr>\n",
       "    <tr>\n",
       "      <th>1</th>\n",
       "      <td>ABBA</td>\n",
       "      <td>Andante, Andante</td>\n",
       "      <td>Take it easy with me, please  \\r\\nTouch me gen...</td>\n",
       "    </tr>\n",
       "    <tr>\n",
       "      <th>2</th>\n",
       "      <td>ABBA</td>\n",
       "      <td>As Good As New</td>\n",
       "      <td>I'll never know why I had to go  \\r\\nWhy I had...</td>\n",
       "    </tr>\n",
       "    <tr>\n",
       "      <th>3</th>\n",
       "      <td>ABBA</td>\n",
       "      <td>Bang</td>\n",
       "      <td>Making somebody happy is a question of give an...</td>\n",
       "    </tr>\n",
       "    <tr>\n",
       "      <th>4</th>\n",
       "      <td>ABBA</td>\n",
       "      <td>Bang-A-Boomerang</td>\n",
       "      <td>Making somebody happy is a question of give an...</td>\n",
       "    </tr>\n",
       "    <tr>\n",
       "      <th>...</th>\n",
       "      <td>...</td>\n",
       "      <td>...</td>\n",
       "      <td>...</td>\n",
       "    </tr>\n",
       "    <tr>\n",
       "      <th>57645</th>\n",
       "      <td>Ziggy Marley</td>\n",
       "      <td>Good Old Days</td>\n",
       "      <td>Irie days come on play  \\r\\nLet the angels fly...</td>\n",
       "    </tr>\n",
       "    <tr>\n",
       "      <th>57646</th>\n",
       "      <td>Ziggy Marley</td>\n",
       "      <td>Hand To Mouth</td>\n",
       "      <td>Power to the workers  \\r\\nMore power  \\r\\nPowe...</td>\n",
       "    </tr>\n",
       "    <tr>\n",
       "      <th>57647</th>\n",
       "      <td>Zwan</td>\n",
       "      <td>Come With Me</td>\n",
       "      <td>all you need  \\r\\nis something i'll believe  \\...</td>\n",
       "    </tr>\n",
       "    <tr>\n",
       "      <th>57648</th>\n",
       "      <td>Zwan</td>\n",
       "      <td>Desire</td>\n",
       "      <td>northern star  \\r\\nam i frightened  \\r\\nwhere ...</td>\n",
       "    </tr>\n",
       "    <tr>\n",
       "      <th>57649</th>\n",
       "      <td>Zwan</td>\n",
       "      <td>Heartsong</td>\n",
       "      <td>come in  \\r\\nmake yourself at home  \\r\\ni'm a ...</td>\n",
       "    </tr>\n",
       "  </tbody>\n",
       "</table>\n",
       "<p>57650 rows × 3 columns</p>\n",
       "</div>"
      ],
      "text/plain": [
       "             artist                   song  \\\n",
       "0              ABBA  Ahe's My Kind Of Girl   \n",
       "1              ABBA       Andante, Andante   \n",
       "2              ABBA         As Good As New   \n",
       "3              ABBA                   Bang   \n",
       "4              ABBA       Bang-A-Boomerang   \n",
       "...             ...                    ...   \n",
       "57645  Ziggy Marley          Good Old Days   \n",
       "57646  Ziggy Marley          Hand To Mouth   \n",
       "57647          Zwan           Come With Me   \n",
       "57648          Zwan                 Desire   \n",
       "57649          Zwan              Heartsong   \n",
       "\n",
       "                                                    text  \n",
       "0      Look at her face, it's a wonderful face  \\r\\nA...  \n",
       "1      Take it easy with me, please  \\r\\nTouch me gen...  \n",
       "2      I'll never know why I had to go  \\r\\nWhy I had...  \n",
       "3      Making somebody happy is a question of give an...  \n",
       "4      Making somebody happy is a question of give an...  \n",
       "...                                                  ...  \n",
       "57645  Irie days come on play  \\r\\nLet the angels fly...  \n",
       "57646  Power to the workers  \\r\\nMore power  \\r\\nPowe...  \n",
       "57647  all you need  \\r\\nis something i'll believe  \\...  \n",
       "57648  northern star  \\r\\nam i frightened  \\r\\nwhere ...  \n",
       "57649  come in  \\r\\nmake yourself at home  \\r\\ni'm a ...  \n",
       "\n",
       "[57650 rows x 3 columns]"
      ]
     },
     "execution_count": 6,
     "metadata": {},
     "output_type": "execute_result"
    }
   ],
   "source": [
    "afrin.drop('link', axis = 1).reset_index(drop = True) #we dropped the link colmun because it wasn't needed"
   ]
  },
  {
   "cell_type": "code",
   "execution_count": 7,
   "id": "7dad422c-e4be-4432-9dd8-537ad1b35de4",
   "metadata": {},
   "outputs": [
    {
     "data": {
      "text/plain": [
       "\"You can dance, you can jive, having the time of your life  \\r\\nSee that girl, watch that scene, diggin' the Dancing Queen  \\r\\n  \\r\\nFriday night and the lights are low  \\r\\nLooking out for the place to go  \\r\\nWhere they play the right music, getting in the swing  \\r\\nYou come in to look for a king  \\r\\nAnybody could be that guy  \\r\\nNight is young and the music's high  \\r\\nWith a bit of rock music, everything is fine  \\r\\nYou're in the mood for a dance  \\r\\nAnd when you get the chance  \\r\\n  \\r\\nYou are the Dancing Queen, young and sweet, only seventeen  \\r\\nDancing Queen, feel the beat from the tambourine  \\r\\nYou can dance, you can jive, having the time of your life  \\r\\nSee that girl, watch that scene, diggin' the Dancing Queen  \\r\\n  \\r\\nYou're a teaser, you turn 'em on  \\r\\nLeave them burning and then you're gone  \\r\\nLooking out for another, anyone will do  \\r\\nYou're in the mood for a dance  \\r\\nAnd when you get the chance  \\r\\n  \\r\\nYou are the Dancing Queen, young and sweet, only seventeen  \\r\\nDancing Queen, feel the beat from the tambourine  \\r\\nYou can dance, you can jive, having the time of your life  \\r\\nSee that girl, watch that scene, diggin' the Dancing Queen\\r\\n\\r\\n\""
      ]
     },
     "execution_count": 7,
     "metadata": {},
     "output_type": "execute_result"
    }
   ],
   "source": [
    "afrin['text'][11]"
   ]
  },
  {
   "cell_type": "code",
   "execution_count": 8,
   "id": "ca341ae2-1836-4713-921f-7b58de2df6a9",
   "metadata": {},
   "outputs": [
    {
     "data": {
      "text/plain": [
       "(5000, 4)"
      ]
     },
     "execution_count": 8,
     "metadata": {},
     "output_type": "execute_result"
    }
   ],
   "source": [
    "afrin = afrin.sample(5000) #took sample of 5000...will try entire dataset when have more time\n",
    "afrin.shape"
   ]
  },
  {
   "cell_type": "code",
   "execution_count": 9,
   "id": "cc038dac-e40a-42a3-8187-5a47839ee4a8",
   "metadata": {},
   "outputs": [],
   "source": [
    "afrin['text'] = afrin['text'].str.lower().replace(r'^\\w\\s', '').replace(r'\\n','', regex = True) #preprocessing on text"
   ]
  },
  {
   "cell_type": "code",
   "execution_count": 10,
   "id": "1249705c-0a83-4dba-8d70-bd731455669b",
   "metadata": {},
   "outputs": [
    {
     "data": {
      "text/html": [
       "<div>\n",
       "<style scoped>\n",
       "    .dataframe tbody tr th:only-of-type {\n",
       "        vertical-align: middle;\n",
       "    }\n",
       "\n",
       "    .dataframe tbody tr th {\n",
       "        vertical-align: top;\n",
       "    }\n",
       "\n",
       "    .dataframe thead th {\n",
       "        text-align: right;\n",
       "    }\n",
       "</style>\n",
       "<table border=\"1\" class=\"dataframe\">\n",
       "  <thead>\n",
       "    <tr style=\"text-align: right;\">\n",
       "      <th></th>\n",
       "      <th>artist</th>\n",
       "      <th>song</th>\n",
       "      <th>link</th>\n",
       "      <th>text</th>\n",
       "    </tr>\n",
       "  </thead>\n",
       "  <tbody>\n",
       "    <tr>\n",
       "      <th>37425</th>\n",
       "      <td>James Taylor</td>\n",
       "      <td>Native Son</td>\n",
       "      <td>/j/james+taylor/native+son_20069242.html</td>\n",
       "      <td>mount up, move on,  \\rmay you find the way bac...</td>\n",
       "    </tr>\n",
       "    <tr>\n",
       "      <th>39467</th>\n",
       "      <td>Katy Perry</td>\n",
       "      <td>Black And Gold</td>\n",
       "      <td>/k/katy+perry/black+and+gold_20766901.html</td>\n",
       "      <td>if the fish swam out of the ocean  \\rand grew ...</td>\n",
       "    </tr>\n",
       "    <tr>\n",
       "      <th>28092</th>\n",
       "      <td>Cliff Richard</td>\n",
       "      <td>I Love You</td>\n",
       "      <td>/c/cliff+richard/i+love+you_10067597.html</td>\n",
       "      <td>your love means more to me than  \\rall the app...</td>\n",
       "    </tr>\n",
       "    <tr>\n",
       "      <th>49372</th>\n",
       "      <td>Queen</td>\n",
       "      <td>The March Of The Black Queen</td>\n",
       "      <td>/q/queen/march+of+the+black+queen_20112624.html</td>\n",
       "      <td>do you mean it ?  \\rdo you mean it ?  \\rdo you...</td>\n",
       "    </tr>\n",
       "    <tr>\n",
       "      <th>33120</th>\n",
       "      <td>Free</td>\n",
       "      <td>Little Bit Of Love</td>\n",
       "      <td>/f/free/little+bit+of+love_20246390.html</td>\n",
       "      <td>i believe  \\rif you give  \\ra little bit of lo...</td>\n",
       "    </tr>\n",
       "  </tbody>\n",
       "</table>\n",
       "</div>"
      ],
      "text/plain": [
       "              artist                          song  \\\n",
       "37425   James Taylor                    Native Son   \n",
       "39467     Katy Perry                Black And Gold   \n",
       "28092  Cliff Richard                    I Love You   \n",
       "49372          Queen  The March Of The Black Queen   \n",
       "33120           Free            Little Bit Of Love   \n",
       "\n",
       "                                                  link  \\\n",
       "37425         /j/james+taylor/native+son_20069242.html   \n",
       "39467       /k/katy+perry/black+and+gold_20766901.html   \n",
       "28092        /c/cliff+richard/i+love+you_10067597.html   \n",
       "49372  /q/queen/march+of+the+black+queen_20112624.html   \n",
       "33120         /f/free/little+bit+of+love_20246390.html   \n",
       "\n",
       "                                                    text  \n",
       "37425  mount up, move on,  \\rmay you find the way bac...  \n",
       "39467  if the fish swam out of the ocean  \\rand grew ...  \n",
       "28092  your love means more to me than  \\rall the app...  \n",
       "49372  do you mean it ?  \\rdo you mean it ?  \\rdo you...  \n",
       "33120  i believe  \\rif you give  \\ra little bit of lo...  "
      ]
     },
     "execution_count": 10,
     "metadata": {},
     "output_type": "execute_result"
    }
   ],
   "source": [
    "afrin.tail(5) "
   ]
  },
  {
   "cell_type": "code",
   "execution_count": 15,
   "id": "2b315c2c-3269-4a72-ba71-81191f67a45b",
   "metadata": {},
   "outputs": [
    {
     "name": "stderr",
     "output_type": "stream",
     "text": [
      "[nltk_data] Downloading package punkt to\n",
      "[nltk_data]     /Users/mikeydelgado/nltk_data...\n",
      "[nltk_data]   Unzipping tokenizers/punkt.zip.\n"
     ]
    }
   ],
   "source": [
    "#now we convert the textual data into tokens so we can parse it\n",
    "import nltk\n",
    "nltk.download('punkt')\n",
    "from nltk.stem.porter import PorterStemmer #importing a stem porter here so we can stem stuff uWu"
   ]
  },
  {
   "cell_type": "code",
   "execution_count": 16,
   "id": "eb6c3ad4-e522-4431-aa7d-ee6724f82cb2",
   "metadata": {},
   "outputs": [],
   "source": [
    "#created a porter stemmer object\n",
    "stemmer = PorterStemmer()"
   ]
  },
  {
   "cell_type": "code",
   "execution_count": 19,
   "id": "becf7bce-42e5-47b3-a3a2-987c8cf799f9",
   "metadata": {},
   "outputs": [],
   "source": [
    "def token(txt):\n",
    "    token = nltk.word_tokenize(txt) #we have a lot of tokens here\n",
    "    a = [stemmer.stem(w) for w in token]#we stored all tokens in a list\n",
    "    return \" \".join(a)"
   ]
  },
  {
   "cell_type": "code",
   "execution_count": 20,
   "id": "f379236e-18c2-46d0-8802-aa75c357b917",
   "metadata": {},
   "outputs": [
    {
     "data": {
      "text/plain": [
       "'you are beauti , beauti'"
      ]
     },
     "execution_count": 20,
     "metadata": {},
     "output_type": "execute_result"
    }
   ],
   "source": [
    "token(\"you are beautiful, beauty\")"
   ]
  },
  {
   "cell_type": "code",
   "execution_count": null,
   "id": "ea409110-054e-4215-8eff-4742a96d49ef",
   "metadata": {},
   "outputs": [],
   "source": []
  }
 ],
 "metadata": {
  "kernelspec": {
   "display_name": "Python 3 (ipykernel)",
   "language": "python",
   "name": "python3"
  },
  "language_info": {
   "codemirror_mode": {
    "name": "ipython",
    "version": 3
   },
   "file_extension": ".py",
   "mimetype": "text/x-python",
   "name": "python",
   "nbconvert_exporter": "python",
   "pygments_lexer": "ipython3",
   "version": "3.11.7"
  }
 },
 "nbformat": 4,
 "nbformat_minor": 5
}
